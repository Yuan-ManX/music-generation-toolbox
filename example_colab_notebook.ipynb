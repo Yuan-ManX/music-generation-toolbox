{
  "nbformat": 4,
  "nbformat_minor": 0,
  "metadata": {
    "colab": {
      "name": "music-generation-toolbox.ipynb",
      "provenance": []
    },
    "kernelspec": {
      "name": "python3",
      "display_name": "Python 3"
    },
    "language_info": {
      "name": "python"
    }
  },
  "cells": [
    {
      "cell_type": "code",
      "metadata": {
        "id": "DzRthmzTUL-0"
      },
      "source": [
        "!nvidia-smi\n",
        "!pip install reformer_pytorch --upgrade"
      ],
      "execution_count": null,
      "outputs": []
    },
    {
      "cell_type": "code",
      "metadata": {
        "id": "lDSvIj_6UIiy"
      },
      "source": [
        "!git clone https://github.com/wingedsheep/music-generation-toolbox"
      ],
      "execution_count": null,
      "outputs": []
    },
    {
      "cell_type": "code",
      "metadata": {
        "id": "uuUcGoRFUOTc"
      },
      "source": [
        "!pip install pretty_midi"
      ],
      "execution_count": null,
      "outputs": []
    },
    {
      "cell_type": "code",
      "metadata": {
        "id": "geBg0HbuUQRk"
      },
      "source": [
        "%cd music-generation-toolbox/"
      ],
      "execution_count": null,
      "outputs": []
    },
    {
      "cell_type": "code",
      "metadata": {
        "id": "GkTZ9YMsURKe"
      },
      "source": [
        "import torch\n",
        "from pretty_midi import pretty_midi\n",
        "\n",
        "from encoders.dictionary_generator import DictionaryGenerator\n",
        "from encoders.event_extractor import EventExtractor\n",
        "from encoders.midi_generator import MidiGenerator\n",
        "from encoders.midi_writer import MidiWriter\n",
        "from encoders.words_converter import WordsConverter\n",
        "from encoders.input_data_converter import InputDataConverter\n",
        "import os\n",
        "import glob\n",
        "\n",
        "# Load MIDI files\n",
        "from models.reformer_model import ReformerModel\n",
        "\n",
        "\n",
        "midis = glob.glob('/content/music-generation-toolbox/data/pop/*.mid')\n",
        "\n",
        "# Convert MIDI files to training data\n",
        "dictionary = DictionaryGenerator.create_dictionary()\n",
        "training_data = []\n",
        "for midi in midis:\n",
        "    print(f\"preparing data for {midi}\")\n",
        "    midi_data = pretty_midi.PrettyMIDI(midi)\n",
        "\n",
        "    # Extract data from midi and convert to input data\n",
        "    event_extractor = EventExtractor()\n",
        "    events = event_extractor.extract_events(midi_data)\n",
        "    words = WordsConverter.events_to_words(events)\n",
        "    input_data_converter = InputDataConverter(dictionary)\n",
        "    input_data = input_data_converter.words_to_input_data(words)\n",
        "    training_data.append(input_data)\n",
        "\n",
        "print(training_data)\n",
        "\n",
        "# Create and train the model\n",
        "model = ReformerModel(dictionary, max_sequence_length=4096)\n",
        "\n",
        "print(\"Created model. Starting training for 100 epochs.\")\n",
        "model.train(x_train=training_data, epochs=100, batch_size=4, stop_loss=0.1)\n",
        "\n",
        "# Generate music\n",
        "print(\"Generating music.\")\n",
        "output = model.generate(1000)\n",
        "\n",
        "# Restore events from input data\n",
        "input_data_converter = InputDataConverter(dictionary)\n",
        "restored_words = input_data_converter.input_data_to_words(output)\n",
        "restored_events = WordsConverter.words_to_events(restored_words)\n",
        "\n",
        "# Restore midi from restored events\n",
        "print(\"Writing midi.\")\n",
        "midi_generator = MidiGenerator()\n",
        "restored_midi = midi_generator.events_to_midi(restored_events)\n",
        "MidiWriter.write_midi(restored_midi, \"output.midi\")"
      ],
      "execution_count": null,
      "outputs": []
    }
  ]
}