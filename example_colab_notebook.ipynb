{
  "nbformat": 4,
  "nbformat_minor": 0,
  "metadata": {
    "colab": {
      "name": "example_colab_notebook.ipynb",
      "provenance": [],
      "collapsed_sections": []
    },
    "kernelspec": {
      "name": "python3",
      "display_name": "Python 3"
    },
    "language_info": {
      "name": "python"
    },
    "accelerator": "GPU"
  },
  "cells": [
    {
      "cell_type": "code",
      "metadata": {
        "id": "DzRthmzTUL-0"
      },
      "source": [
        "!nvidia-smi\n",
        "!pip install reformer_pytorch --upgrade"
      ],
      "execution_count": null,
      "outputs": []
    },
    {
      "cell_type": "code",
      "metadata": {
        "id": "lDSvIj_6UIiy"
      },
      "source": [
        "!git clone https://github.com/wingedsheep/music-generation-toolbox"
      ],
      "execution_count": null,
      "outputs": []
    },
    {
      "cell_type": "code",
      "metadata": {
        "id": "uuUcGoRFUOTc"
      },
      "source": [
        "!pip install pretty_midi\n",
        "!pip install miditoolkit"
      ],
      "execution_count": null,
      "outputs": []
    },
    {
      "cell_type": "code",
      "metadata": {
        "id": "geBg0HbuUQRk"
      },
      "source": [
        "%cd music-generation-toolbox/"
      ],
      "execution_count": null,
      "outputs": []
    },
    {
      "cell_type": "code",
      "metadata": {
        "id": "bmOTocYCwR93"
      },
      "source": [
        "import glob\n",
        "\n",
        "midis = glob.glob('/content/music-generation-toolbox/data/pop/*.mid')"
      ],
      "execution_count": null,
      "outputs": []
    },
    {
      "cell_type": "code",
      "metadata": {
        "id": "GkTZ9YMsURKe"
      },
      "source": [
        "from mgt.datamanagers.time_shift_data_manager import TimeShiftDataManager\n",
        "from mgt.models.reformer_model import ReformerModel\n",
        "\n",
        "time_shift_data_manager = TimeShiftDataManager()\n",
        "time_shift_dataset = time_shift_data_manager.prepare_data(midis)\n",
        "\n",
        "time_shift_model = ReformerModel(time_shift_dataset.dictionary)\n",
        "\n",
        "print(\"Created model. Starting training for 10 epochs.\")\n",
        "time_shift_model.train(x_train=time_shift_dataset.data, epochs=10, stop_loss=0.1)\n",
        "\n",
        "# Generate music\n",
        "print(\"Generating music.\")\n",
        "time_shift_output = time_shift_model.generate(1000)\n",
        "\n",
        "# Restore events from input data\n",
        "time_shift_midi = time_shift_data_manager.to_midi(time_shift_output)\n",
        "time_shift_midi.save(\"/content/time-shift-result.midi\")"
      ],
      "execution_count": null,
      "outputs": []
    },
    {
      "cell_type": "code",
      "metadata": {
        "id": "HdYdw-wYwOWj"
      },
      "source": [
        "from mgt.datamanagers.remi_data_manager import RemiDataManager\n",
        "from mgt.models.reformer_model import ReformerModel\n",
        "\n",
        "remi_data_manager = RemiDataManager()\n",
        "remi_dataset = remi_data_manager.prepare_data(midis)\n",
        "\n",
        "remi_model = ReformerModel(remi_dataset.dictionary)\n",
        "\n",
        "print(\"Created model. Starting training for 10 epochs.\")\n",
        "remi_model.train(x_train=remi_dataset.data, epochs=10, stop_loss=0.1)\n",
        "\n",
        "# Generate music\n",
        "print(\"Generating music.\")\n",
        "remi_output = model.generate(1000)\n",
        "\n",
        "# Restore events from input data\n",
        "remi_midi = remi_data_manager.to_midi(remi_output)\n",
        "remi_midi.save(\"/content/remi-result.midi\")"
      ],
      "execution_count": null,
      "outputs": []
    }
  ]
}